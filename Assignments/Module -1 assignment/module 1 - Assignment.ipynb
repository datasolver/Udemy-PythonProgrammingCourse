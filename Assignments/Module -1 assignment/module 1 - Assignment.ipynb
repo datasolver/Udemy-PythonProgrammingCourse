{
 "cells": [
  {
   "cell_type": "markdown",
   "metadata": {},
   "source": [
    "## Assignments - put your new skills to test!\n",
    "\n",
    "For each each, ensure your code is written below the statement **Add your code below this line**. Don't forget to hit the run button after completing each code. Happy coding!"
   ]
  },
  {
   "cell_type": "markdown",
   "metadata": {},
   "source": [
    "#### Questions #1\n",
    "Write a python program to print the first 10 letters of the English alphabets\n",
    "\n",
    "(Hint: This question requires an inbuilt python module called \"string\". Thus, the first part of the exericse is done for you. **Do not delete**)"
   ]
  },
  {
   "cell_type": "code",
   "execution_count": null,
   "metadata": {},
   "outputs": [],
   "source": [
    "# helper code (do not delete)\n",
    "import string\n",
    "english_alphabets = string.lowercase\n",
    "\n",
    "# Add your code below this line\n"
   ]
  },
  {
   "cell_type": "markdown",
   "metadata": {},
   "source": [
    "#### Questions #2\n",
    "Write a python program that requires a user to enter five separate inputs namely: name, age, organization, position, number and then, print a descriptive message to the screen using all the five user inputs.\n",
    "\n",
    "(Hint: This is testing your understanding of how to use the **input() function and string formatting**)"
   ]
  },
  {
   "cell_type": "code",
   "execution_count": null,
   "metadata": {},
   "outputs": [],
   "source": [
    "# Add your code below this line"
   ]
  },
  {
   "cell_type": "markdown",
   "metadata": {},
   "source": [
    "#### Questions #3\n",
    "Write a python program to read the entire contents of the file **Mary_Lamb.txt** and replace every occurence of the word **Mary** with your first name. Then, save the output as a new file named as **your_first_name_Lamb.txt** e.g. **Jamiu_Lamb.txt**."
   ]
  },
  {
   "cell_type": "code",
   "execution_count": null,
   "metadata": {},
   "outputs": [],
   "source": [
    "# Add your code below this line"
   ]
  },
  {
   "cell_type": "markdown",
   "metadata": {},
   "source": [
    "#### Questions #4\n",
    "Write a python program to count the number of unique four-letter words that occur in the file named **Mary_Lamb.txt**.\n",
    "\n",
    "(Hint: This will test your understanding of how to read text files,  how to combine some string operations, with for loop, if else conditions, and possibly list operations)"
   ]
  },
  {
   "cell_type": "code",
   "execution_count": null,
   "metadata": {},
   "outputs": [],
   "source": [
    "# Add your code below this line"
   ]
  }
 ],
 "metadata": {
  "kernelspec": {
   "display_name": "Python 3",
   "language": "python",
   "name": "python3"
  },
  "language_info": {
   "codemirror_mode": {
    "name": "ipython",
    "version": 3
   },
   "file_extension": ".py",
   "mimetype": "text/x-python",
   "name": "python",
   "nbconvert_exporter": "python",
   "pygments_lexer": "ipython3",
   "version": "3.7.4"
  }
 },
 "nbformat": 4,
 "nbformat_minor": 4
}
