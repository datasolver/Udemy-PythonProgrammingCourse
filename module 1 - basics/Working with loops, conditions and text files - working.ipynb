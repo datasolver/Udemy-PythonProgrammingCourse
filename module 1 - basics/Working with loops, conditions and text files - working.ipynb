{
 "cells": [
  {
   "cell_type": "markdown",
   "metadata": {},
   "source": [
    "# Python Fundamentals \n",
    "\n",
    "## Working with loops, conditions and text files"
   ]
  },
  {
   "cell_type": "markdown",
   "metadata": {},
   "source": [
    "## Repeating Actions - for loop\n",
    "\n",
    "<p></p>\n",
    "<font size =3> Assuming you have a list of names of animals and you are required to print each name on a separate line. What do you think will be an efficient way to achieve this.</font>"
   ]
  },
  {
   "cell_type": "code",
   "execution_count": null,
   "metadata": {},
   "outputs": [],
   "source": [
    "# let's say we have \n",
    "animals = ['dogs', 'cat', 'mouse', 'sheep', 'duck', 'rat']\n",
    "# let's print each name on a line using the print function\n"
   ]
  },
  {
   "cell_type": "markdown",
   "metadata": {},
   "source": [
    "<font size =3> While we achieved the result, it is obvious this approach is ineffective and boring. Now, let's use a <b>for loop</b> instead</font>"
   ]
  },
  {
   "cell_type": "code",
   "execution_count": null,
   "metadata": {},
   "outputs": [],
   "source": [
    "# let's use for loop instead\n"
   ]
  },
  {
   "cell_type": "markdown",
   "metadata": {},
   "source": [
    "<font size =3> The variable <b>name</b> in this example is called  <b>loop variable</b> and could have been anything else</font>"
   ]
  },
  {
   "cell_type": "code",
   "execution_count": null,
   "metadata": {},
   "outputs": [],
   "source": [
    "# let's recall our people dictionary\n",
    "Name = ['Bob','John','Fareedah','Khalid','Abigail']\n",
    "Age = [48, 37, 32, 28, 25]\n",
    "people = dict(zip(Name, Age))"
   ]
  },
  {
   "cell_type": "code",
   "execution_count": null,
   "metadata": {},
   "outputs": [],
   "source": [
    "# let's find the sum of the ages of everyone in our people dictionary"
   ]
  },
  {
   "attachments": {},
   "cell_type": "markdown",
   "metadata": {},
   "source": [
    "## Working with conditions - \"if - elif - else\"\n",
    "<p></p>\n",
    "<font size =3> You will often need to make a choice among options while programming. This means you may have to set conditions for deciding what the computer does given different options. The general format for working with <b> \"if elif else\" </b> in python is:</font>\n",
    "\n",
    "<font size =5><b>\n",
    "    \n",
    "```\n",
    "if condition 1:\n",
    "    do statement 1\n",
    "elif condition 2:\n",
    "    do statement 2:\n",
    "\n",
    "    .\n",
    "    .\n",
    "    .\n",
    "\n",
    "elif condition (n-1):\n",
    "    do statement (n-1):    \n",
    "\n",
    "else:\n",
    "    do statement n\n",
    "\n",
    "```\n",
    "</b></font>\n",
    "\n",
    "<font size =3> \n",
    "Note the use of <b> colon (:) </b> at the end of each conditional statement and the use of <b>indentation</b> before each option. These are very important to avoid syntax and indentation errors respectively.\n",
    "</font>"
   ]
  },
  {
   "cell_type": "code",
   "execution_count": null,
   "metadata": {},
   "outputs": [],
   "source": [
    "# let's look at a simple example to decide if a user input is an even or an odd number"
   ]
  },
  {
   "cell_type": "markdown",
   "metadata": {},
   "source": [
    "<font size = 3> Let's look at another example. Let's say I have an heterogeneous list (named myList) and I want to create a sorted list (subset) for each data type present in mylist without any element repeated.\n",
    "<p></p>\n",
    "<b>\n",
    "myList = ['Alex', 'bus', 1, 5, -2, 'apple', 5.25, 1.245, 0.5, 3, 0, 2, 1, 0, 'bus', 'cat', 1, 'apple', 1.25, -9.3]\n",
    "</b>\n",
    "</font>"
   ]
  },
  {
   "cell_type": "code",
   "execution_count": null,
   "metadata": {},
   "outputs": [],
   "source": [
    "myList = ['Alex', 'bus', 1, 5, -2, 'apple', 5.25, 1.245, 0.5, 3, 0, 2, 1, 0, 'bus', 'cat', 1, 'apple', 1.25, -9.3]"
   ]
  },
  {
   "cell_type": "code",
   "execution_count": null,
   "metadata": {},
   "outputs": [],
   "source": [
    "\"\"\"\n",
    "To do this, my algorithm is:\n",
    "1. Create 3 empty lists - strList, intList, floatList\n",
    "2. Examine the type of each item in myList using the type() function\n",
    "3. Append the item to the appropriate list from step 1\n",
    "4. print out each list\n",
    "\"\"\""
   ]
  },
  {
   "cell_type": "markdown",
   "metadata": {},
   "source": [
    "## List Comprehension\n",
    "<p></p>\n",
    "<font size = 3> Assuming we want to make a list of the squares of the elements of another list of numbers. Of course, we can use for loop, but that can become very slow especially is the list is large. A smarter approach is to use list comprehension, which generally follows the following format:\n",
    "    \n",
    "<p></p>\n",
    "<b>\n",
    "new_list = [do_something_with_item for item in original_list if condition applies]\n",
    "</b>\n",
    "</font>"
   ]
  },
  {
   "cell_type": "code",
   "execution_count": null,
   "metadata": {},
   "outputs": [],
   "source": [
    "# Let's try this out\n"
   ]
  },
  {
   "cell_type": "code",
   "execution_count": null,
   "metadata": {},
   "outputs": [],
   "source": [
    "# Let's repeat the exercise using list comprehension\n"
   ]
  },
  {
   "cell_type": "markdown",
   "metadata": {},
   "source": [
    "## Data I/O (working with text files)\n",
    "<p></p>  \n",
    "<font size = 3>  \n",
    "- As seen before, user input can be obtained using the <b>input()</b> function\n",
    "<p></p>  \n",
    "<p></p>  \n",
    "- Writing to the screen can achieved by calling the variable or using the <b>print()</b> function\n",
    "<p></p>  \n",
    "<p></p>   \n",
    "- To open a file, the <b> open(path_to_file, mode)</b> function can be used. Alternatively, can use <b> with open(path_to_file, mode) as variable_name:</b>.\n",
    "<p></p>  \n",
    "<p></p>   \n",
    "- After opening a file, its contents can be read using either <b>read(), readline() or readlines() function</b>. What's the difference? read() is used to read the entire content of the file as a string. readline() is used to read a single line (usually the first line) from the file while readlines is used to read the contents of the file line by line.\n",
    "<p></p>  \n",
    "<p></p>\n",
    "- The function <b> write()</b> can be used to write data to a file. However, the file must first be opened as in <b> write </b>mode. \n",
    "</font>"
   ]
  },
  {
   "cell_type": "code",
   "execution_count": null,
   "metadata": {},
   "outputs": [],
   "source": [
    "# Let's open the file name Mary_Lamb.txt as file\n"
   ]
  },
  {
   "cell_type": "code",
   "execution_count": null,
   "metadata": {},
   "outputs": [],
   "source": [
    "#Let's read the entire contents as a string\n"
   ]
  },
  {
   "cell_type": "code",
   "execution_count": null,
   "metadata": {},
   "outputs": [],
   "source": [
    "#Let's read the first line\n"
   ]
  },
  {
   "cell_type": "code",
   "execution_count": null,
   "metadata": {},
   "outputs": [],
   "source": [
    "# Let's read all contents line by line \n"
   ]
  },
  {
   "cell_type": "code",
   "execution_count": null,
   "metadata": {},
   "outputs": [],
   "source": [
    "# Now, let's write some data to a file\n",
    "name = 'Joe'\n",
    "age = 45\n",
    "status = 'married'\n",
    "num_kids = 3"
   ]
  },
  {
   "cell_type": "code",
   "execution_count": null,
   "metadata": {},
   "outputs": [],
   "source": [
    "# Let's write these to a file named Joe.txt"
   ]
  },
  {
   "attachments": {},
   "cell_type": "markdown",
   "metadata": {},
   "source": [
    "### More on loops - while loops\n",
    "\n",
    "Previously, we saw and played around with the <code> for loop</code>, which is basically a way to run an operation multiple times. All the examples we saw previously involved a finite or known number of iterations. If we do not know how many times the iteration will be performed, then a <code> while loop</code> will be used. The <code> while loop</code> can also be used even where the number of iterations is known. However, the <code>for loop </code> is preferred in such a case.\n",
    "\n",
    "The general syntax for a <code> while loop </code> is:\n",
    "\n",
    "<code> \n",
    "condition = initial_value # instantiate the loop condition\n",
    "\n",
    "while condition:\n",
    "\n",
    "        do something\n",
    "        condition = next_value\n",
    "</code>\n",
    "\n",
    "\n",
    "When the condition is noo longer met, the code breaks and python throws an error. We can use an <code> else </code> to provide an alternative operation to be performed when the condition is no longer met. This will help to avoid the code from throwing an error. Thus, we could have:\n",
    "\n",
    "<code> \n",
    "condition = initial_value # instantiate the loop condition\n",
    "\n",
    "while condition:\n",
    "\n",
    "        do something\n",
    "        condition = next_value\n",
    "\n",
    "else:\n",
    "\n",
    "        do something else\n",
    "</code>"
   ]
  },
  {
   "cell_type": "code",
   "execution_count": null,
   "metadata": {},
   "outputs": [],
   "source": [
    "# let's look at an example - with unknown number of iterations\n",
    "# Here, the operation will be performed until the condition is no longer satisified\n",
    "\n"
   ]
  },
  {
   "cell_type": "code",
   "execution_count": null,
   "metadata": {},
   "outputs": [],
   "source": []
  }
 ],
 "metadata": {
  "kernelspec": {
   "display_name": "Python 3",
   "language": "python",
   "name": "python3"
  },
  "language_info": {
   "codemirror_mode": {
    "name": "ipython",
    "version": 3
   },
   "file_extension": ".py",
   "mimetype": "text/x-python",
   "name": "python",
   "nbconvert_exporter": "python",
   "pygments_lexer": "ipython3",
   "version": "3.7.4"
  }
 },
 "nbformat": 4,
 "nbformat_minor": 4
}
