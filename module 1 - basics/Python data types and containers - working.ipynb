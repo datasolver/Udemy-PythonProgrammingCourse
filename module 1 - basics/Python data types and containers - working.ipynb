{
 "cells": [
  {
   "cell_type": "markdown",
   "metadata": {},
   "source": [
    "# Python Fundamentals"
   ]
  },
  {
   "cell_type": "markdown",
   "metadata": {},
   "source": [
    "<font size = 3> Python has gained global acceptance as the programming language for data analysis and machine learning applications. It is increasingly being adopted as the scripting language in a number of commercial G & G and reservoir engineering softwares (e.g. TNavigator, Interactive Petrophysics (IP), etc.). </font>"
   ]
  },
  {
   "cell_type": "code",
   "execution_count": null,
   "metadata": {},
   "outputs": [],
   "source": [
    "# This is a code cell. Type your code here and click the left \"play\" icon to run. \n",
    "#For example, type (10*2 + 5 - 4 / 3) and run it"
   ]
  },
  {
   "cell_type": "markdown",
   "metadata": {},
   "source": [
    "<font size = 3> Regular mathematical operators (+, -, *, / and power) can be performed in code cells. For example </font>"
   ]
  },
  {
   "cell_type": "code",
   "execution_count": null,
   "metadata": {},
   "outputs": [],
   "source": []
  },
  {
   "cell_type": "markdown",
   "metadata": {},
   "source": [
    "<font size = 3>  Note that power in python is **. </font>"
   ]
  },
  {
   "cell_type": "code",
   "execution_count": null,
   "metadata": {},
   "outputs": [],
   "source": []
  },
  {
   "cell_type": "markdown",
   "metadata": {},
   "source": [
    "## Variable Assignment"
   ]
  },
  {
   "cell_type": "markdown",
   "metadata": {},
   "source": [
    "<font size = 3> The results from the above operations can not be reused in subsequent codes because they were not assigned any name. To use them elsewhere will require retyping and re-running them each time. To avoid such moribound exercise, it is important to assign an operation to a variable (just like each of us has a name). For example, if I assign the operation (10*2 + 5 - 4 / 3) to a variable X, then I can later on perform operations with X such as calculating a new variable Y from X. </font>"
   ]
  },
  {
   "cell_type": "code",
   "execution_count": null,
   "metadata": {},
   "outputs": [],
   "source": []
  },
  {
   "cell_type": "markdown",
   "metadata": {},
   "source": [
    "<font size = 3> You will notice that no output is written for either operation. That is because we have not requested any. To write an output to the screen, we can type the <b> variable name or use the print() function </b>.</font>"
   ]
  },
  {
   "cell_type": "code",
   "execution_count": null,
   "metadata": {},
   "outputs": [],
   "source": []
  },
  {
   "cell_type": "code",
   "execution_count": null,
   "metadata": {},
   "outputs": [],
   "source": []
  },
  {
   "cell_type": "code",
   "execution_count": null,
   "metadata": {},
   "outputs": [],
   "source": [
    "# This will only output the last variable in the cell\n",
    "x\n",
    "y"
   ]
  },
  {
   "cell_type": "code",
   "execution_count": null,
   "metadata": {},
   "outputs": [],
   "source": [
    "# This will print the values of x and y\n"
   ]
  },
  {
   "cell_type": "markdown",
   "metadata": {},
   "source": [
    "## Data Types"
   ]
  },
  {
   "cell_type": "markdown",
   "metadata": {},
   "source": [
    "<font size = 3>The following common data types are recognised by python:\n",
    "1. strings - recognisable by the use of quotation marks \"\" or ''e.g. \"Australia\", \"4\", '4.0', etc.\n",
    "2. integers - e.g. 4, 3, 12\n",
    "3. floats - e.g. 4.0, 3.4567\n",
    "4. complex - e.g. 2.5 - 3j\n",
    "</font>"
   ]
  },
  {
   "cell_type": "markdown",
   "metadata": {},
   "source": [
    "<font size = 3>Consider the values of x and y that we printed in the last example. It will be more intuitive to include some descriptions to the outputs. For examples, <b>x = 7.0 is more descriptive than 7.0</b>. We can use a string to include some descriptions in the <b>print</b> function. </font>"
   ]
  },
  {
   "cell_type": "code",
   "execution_count": null,
   "metadata": {},
   "outputs": [],
   "source": []
  },
  {
   "cell_type": "markdown",
   "metadata": {},
   "source": [
    "<font size =3>Let's perform some operations with strings. Let's  start with a string named <b>myString = \"Australia\"</b></font>"
   ]
  },
  {
   "cell_type": "code",
   "execution_count": null,
   "metadata": {},
   "outputs": [],
   "source": []
  },
  {
   "cell_type": "code",
   "execution_count": null,
   "metadata": {},
   "outputs": [],
   "source": []
  },
  {
   "attachments": {
    "mystring.jpg": {
     "image/jpeg": "[encoded data removed]"
    }
   },
   "cell_type": "markdown",
   "metadata": {},
   "source": [
    "<p><p>\n",
    "<font size =3> <b>Index and Slicing </b></font>\n",
    "<p></p>\n",
    "<font size =3>Python indexing typically goes from left to right and starts at 0 in unit steps. Right to left indexing is also allowed and starts at -1 in steps of -1 as illustrated below:\n",
    "\n",
    "![mystring.jpg](attachment:mystring.jpg)\n",
    "\n",
    "Slicing involves obtaining a subset or subsets of a string at specified locations (indexes).</font>"
   ]
  },
  {
   "cell_type": "code",
   "execution_count": null,
   "metadata": {},
   "outputs": [],
   "source": [
    "# Let's get the first letter in myString\n"
   ]
  },
  {
   "cell_type": "code",
   "execution_count": null,
   "metadata": {},
   "outputs": [],
   "source": [
    "# to get the last letter (or the first letter from right)\n"
   ]
  },
  {
   "cell_type": "markdown",
   "metadata": {},
   "source": [
    "<font size = 3> To obtain a group of consecutive letters from a string, the slicing is done as <b>string[start:stop:step]</b>. This will give a subset <b>starting from \"start\" and ending one step before the specified \"stop\" </b>. Can you try these out?\n",
    "<p></p>\n",
    "1. myString[0:5:1]\n",
    "<p></p>\n",
    "<p></p>\n",
    "2. myString[0:8:2]\n",
    "\n",
    "<p></p>\n",
    "3. myString[0:8]\n",
    "\n",
    "<p></p>\n",
    "4. myString[0:-1]\n",
    "\n",
    "<p></p>\n",
    "5. myString[3:]\n",
    "\n",
    "<p></p>\n",
    "6. myString[:7]\n",
    "</font>"
   ]
  },
  {
   "cell_type": "code",
   "execution_count": null,
   "metadata": {},
   "outputs": [],
   "source": []
  },
  {
   "cell_type": "markdown",
   "metadata": {},
   "source": [
    "<font size = 3>Now, it is important to note that functions exist to convert from one data type to another. For example, to <b>convert an integer 5 to string, we can invoke the function str() and to convert string '5.0' to float, we can use the float() function.</b></font>"
   ]
  },
  {
   "cell_type": "code",
   "execution_count": null,
   "metadata": {},
   "outputs": [],
   "source": [
    "#let's create a new variable called myFloat\n"
   ]
  },
  {
   "cell_type": "code",
   "execution_count": null,
   "metadata": {},
   "outputs": [],
   "source": [
    "# To convert myFloat to an integer\n"
   ]
  },
  {
   "cell_type": "code",
   "execution_count": null,
   "metadata": {},
   "outputs": [],
   "source": [
    "# To convert myFloat to a string\n"
   ]
  },
  {
   "cell_type": "markdown",
   "metadata": {},
   "source": [
    "### String Formatting"
   ]
  },
  {
   "cell_type": "code",
   "execution_count": null,
   "metadata": {},
   "outputs": [],
   "source": [
    "# Method 1 - using %-formatting\n",
    "name = \"Shola\"\n",
    "age = 35\n",
    "position = \"secretary\""
   ]
  },
  {
   "cell_type": "code",
   "execution_count": null,
   "metadata": {},
   "outputs": [],
   "source": []
  },
  {
   "cell_type": "code",
   "execution_count": null,
   "metadata": {},
   "outputs": [],
   "source": [
    "diameter = 3 # cm"
   ]
  },
  {
   "cell_type": "code",
   "execution_count": null,
   "metadata": {},
   "outputs": [],
   "source": []
  },
  {
   "cell_type": "code",
   "execution_count": null,
   "metadata": {},
   "outputs": [],
   "source": [
    "# Method 2 - using format function\n",
    "number = 10.14159"
   ]
  },
  {
   "cell_type": "code",
   "execution_count": null,
   "metadata": {},
   "outputs": [],
   "source": []
  },
  {
   "cell_type": "code",
   "execution_count": null,
   "metadata": {},
   "outputs": [],
   "source": [
    "# Method 3 - using f-formatting\n",
    "name = \"Shola\"\n",
    "age = 35\n",
    "position = \"secretary\""
   ]
  },
  {
   "cell_type": "code",
   "execution_count": null,
   "metadata": {},
   "outputs": [],
   "source": []
  },
  {
   "cell_type": "markdown",
   "metadata": {},
   "source": [
    "<p><p>\n",
    "<font size =3> <b>String Operations</b>\n",
    "<p></p>\n",
    "    \n",
    "   \n",
    "<ol>\n",
    "    <li><a>splitting a string </a></li>\n",
    "    <li><a>concatenating two or more strings </a></li>\n",
    "    <li><a>replacing an item in a string </a></li>\n",
    "</ol> </font>"
   ]
  },
  {
   "cell_type": "code",
   "execution_count": null,
   "metadata": {},
   "outputs": [],
   "source": [
    "# Splitting a string\n",
    "new_string = \"2.3.5.5.8\""
   ]
  },
  {
   "cell_type": "code",
   "execution_count": null,
   "metadata": {},
   "outputs": [],
   "source": [
    "# split using \".\" as separator\n"
   ]
  },
  {
   "cell_type": "code",
   "execution_count": null,
   "metadata": {},
   "outputs": [],
   "source": [
    "new_string = \"Many people believe that machine learning is a mathematical magic\""
   ]
  },
  {
   "cell_type": "code",
   "execution_count": null,
   "metadata": {},
   "outputs": [],
   "source": [
    "# split using \"space\" as separator\n"
   ]
  },
  {
   "cell_type": "markdown",
   "metadata": {},
   "source": [
    "<font size=3>The result is a list of the individual words making up newString</font>"
   ]
  },
  {
   "cell_type": "code",
   "execution_count": null,
   "metadata": {},
   "outputs": [],
   "source": [
    "# Splitting a string\n",
    "input_file = 'account_ledger.txt'"
   ]
  },
  {
   "cell_type": "code",
   "execution_count": null,
   "metadata": {},
   "outputs": [],
   "source": [
    "# split here along the \".\"\n"
   ]
  },
  {
   "cell_type": "code",
   "execution_count": null,
   "metadata": {},
   "outputs": [],
   "source": [
    "# let's combine both splitting and concatenating change the format of a file from .txt to .csv\n"
   ]
  },
  {
   "cell_type": "code",
   "execution_count": null,
   "metadata": {},
   "outputs": [],
   "source": [
    "# replacing an item in a string - variable_name.replace('old_item', 'new_item')\n",
    "new_string = \"Many people believe that machine learning is a mathematical magic\""
   ]
  },
  {
   "cell_type": "code",
   "execution_count": null,
   "metadata": {},
   "outputs": [],
   "source": [
    "# replace \"people\" with \"academics\"\n"
   ]
  },
  {
   "cell_type": "code",
   "execution_count": null,
   "metadata": {},
   "outputs": [],
   "source": [
    "new_string"
   ]
  },
  {
   "cell_type": "markdown",
   "metadata": {},
   "source": [
    "<font size =3>Despite replacing \"people\" with \"academics\", newString remains unchanged. Why?...Well, strings are immutable ordinarily. So, even though the change is valid, it doesn't affect the original string. To impose the change on the original string, we would have to reassign the change made to the newString as illiustrated below </font>"
   ]
  },
  {
   "cell_type": "code",
   "execution_count": null,
   "metadata": {},
   "outputs": [],
   "source": [
    "new_string = new_string.replace(\"people\", \"academics\")"
   ]
  },
  {
   "cell_type": "code",
   "execution_count": null,
   "metadata": {},
   "outputs": [],
   "source": [
    "new_string"
   ]
  },
  {
   "cell_type": "markdown",
   "metadata": {},
   "source": [
    "## Data Containers\n",
    "<p></p>\n",
    "<font size = 3>\n",
    "These are all collections of data. The difference among them lies in whether or not the data is ordered, homogeneous; the collection is changeable/mutable; and whether or not the collection is hashable (can be sliced).\n",
    "<p></p>\n",
    "\n",
    "<ol>\n",
    "    <li><a>List</a> - mutable; data may be ordered or unordered, homogeneous or heterogeneous. Lists are hashable and a list can hold multiple entries for an element</li> \n",
    "    <p></p>\n",
    "    <li><a>Tuple</a> - immutable; data may be ordered or unordered, homogeneous or heterogeneous. Also, hashable and can hold muliple entries for an element</li>  \n",
    "    <p></p>\n",
    "    <li><a>Set</a> - mutable (except for frozen sets); data must be ordered but may be homogeneous or heterogeneous. It is unhashable and holds only one entry per element</li> \n",
    "    <p></p>\n",
    "    <li><a>Dictionary</a> - mutable; data may be ordered or unordered, homogeneous or heterogeneous. It is hashable and holds only one entry for each key.</li> \n",
    "</ol> </font>"
   ]
  },
  {
   "cell_type": "markdown",
   "metadata": {},
   "source": [
    "## List\n",
    "<font size = 3>A list can be invoked using the function <b> list() </b>  or using the <b>symbol [ ] </b> . </font>"
   ]
  },
  {
   "cell_type": "code",
   "execution_count": null,
   "metadata": {},
   "outputs": [],
   "source": [
    "# Let's define a list named myList as follow\n",
    "myList = [1.0, 2, 2, 2.0, 5, 3.75, 'C', 'U', 'R', 'T', 'I', 'N']"
   ]
  },
  {
   "cell_type": "code",
   "execution_count": null,
   "metadata": {},
   "outputs": [],
   "source": [
    "# Let's test hashability\n"
   ]
  },
  {
   "cell_type": "code",
   "execution_count": null,
   "metadata": {},
   "outputs": [],
   "source": [
    "# indexing (or subsetting a list) - similar to string name_list[start:stop:step]\n"
   ]
  },
  {
   "cell_type": "code",
   "execution_count": null,
   "metadata": {},
   "outputs": [],
   "source": [
    "# let's test mutability\n"
   ]
  },
  {
   "cell_type": "markdown",
   "metadata": {},
   "source": [
    "## Tuple\n",
    "<font size = 3>A tuple can be invoked using the function <b> tuple() </b>  or using the <b>symbol ( ) </b> . </font>"
   ]
  },
  {
   "cell_type": "code",
   "execution_count": null,
   "metadata": {},
   "outputs": [],
   "source": [
    "# Let's define a tuple named myTuple as follow\n"
   ]
  },
  {
   "cell_type": "code",
   "execution_count": null,
   "metadata": {},
   "outputs": [],
   "source": [
    "myTuple"
   ]
  },
  {
   "cell_type": "code",
   "execution_count": null,
   "metadata": {},
   "outputs": [],
   "source": [
    "# Let's test hashability\n"
   ]
  },
  {
   "cell_type": "code",
   "execution_count": null,
   "metadata": {},
   "outputs": [],
   "source": [
    "# let's test mutability\n"
   ]
  },
  {
   "cell_type": "markdown",
   "metadata": {},
   "source": [
    "## Set\n",
    "<font size = 3>A Set can be invoked using the function <b> set() </b>  or using the <b>symbol { } </b> . </font>"
   ]
  },
  {
   "cell_type": "markdown",
   "metadata": {},
   "source": [
    "# Let's define a set named mySet as follow\n",
    "mySet = set(myList)"
   ]
  },
  {
   "cell_type": "code",
   "execution_count": null,
   "metadata": {},
   "outputs": [],
   "source": [
    "mySet = set(myList)"
   ]
  },
  {
   "cell_type": "code",
   "execution_count": null,
   "metadata": {},
   "outputs": [],
   "source": [
    "mySet"
   ]
  },
  {
   "cell_type": "markdown",
   "metadata": {},
   "source": [
    "<font size =3> This shows that a set can only hold ordered and unique elements (no repetition) which may be homogeneous or heterogeneous. </font>"
   ]
  },
  {
   "cell_type": "code",
   "execution_count": null,
   "metadata": {},
   "outputs": [],
   "source": [
    "# let's test mutability\n",
    "mySet[3] = 5"
   ]
  },
  {
   "cell_type": "markdown",
   "metadata": {},
   "source": [
    "<font size =3> The error doesn't mean that sets are immutable. It is still related to the fact that sets are unhashable. To show that sets are mutable (unless frozen), let's apply the <b>remove & add</b> methods to achieve the same result we wanted</font>"
   ]
  },
  {
   "cell_type": "code",
   "execution_count": null,
   "metadata": {},
   "outputs": [],
   "source": [
    "mySet.remove(5)\n",
    "mySet.add(2.5)\n",
    "mySet"
   ]
  },
  {
   "cell_type": "code",
   "execution_count": null,
   "metadata": {},
   "outputs": [],
   "source": [
    "help(set)"
   ]
  },
  {
   "cell_type": "markdown",
   "metadata": {},
   "source": [
    "<font size =3>  Now, let's freeze the set and try to make changes to it </font>"
   ]
  },
  {
   "cell_type": "code",
   "execution_count": null,
   "metadata": {},
   "outputs": [],
   "source": [
    "# let's define a frozen set\n",
    "myFrozenSet = frozenset(mySet)"
   ]
  },
  {
   "cell_type": "code",
   "execution_count": null,
   "metadata": {},
   "outputs": [],
   "source": [
    "myFrozenSet"
   ]
  },
  {
   "cell_type": "code",
   "execution_count": null,
   "metadata": {},
   "outputs": [],
   "source": [
    "myFrozenSet.remove(3.75)"
   ]
  },
  {
   "cell_type": "markdown",
   "metadata": {},
   "source": [
    "<font size =3>  This simply shows that frozen sets are immutable. </font>"
   ]
  },
  {
   "cell_type": "markdown",
   "metadata": {},
   "source": [
    "## Dictionary\n",
    "<p></p>\n",
    "<font size = 3>A dictionary can be invoked using the function <b> dict() </b>  or using the <b>symbol { } </b> . Unlike, the other data containers, <b>a dictionary requires two inputs (known as attributes)</b> namely <b> keys and values</b>. A dictionary is formed by mapping each element of the values attribute to the corresponding elements of the keys attribute usig the <b>zip(keys, values)</b> function.\n",
    "<p></p>    \n",
    "For example, let's define two lists as follows: <b>Name = ['Bob','John','Fareedah','Khalid','Abigail']</b> and <b> Age = [48, 37, 32, 28, 25]</b>. We can define a <b>dictionary, people which uses \"Name\" as its keys and \"Age\" as its values</b>.\n",
    "</font>"
   ]
  },
  {
   "cell_type": "code",
   "execution_count": null,
   "metadata": {},
   "outputs": [],
   "source": [
    "Name = ['Bob','John','Fareedah','Khalid','Abigail']\n",
    "Age = [48, 37, 32, 28, 25]\n",
    "\n",
    "people = dict(zip(Name, Age))"
   ]
  },
  {
   "cell_type": "code",
   "execution_count": null,
   "metadata": {},
   "outputs": [],
   "source": [
    "people"
   ]
  },
  {
   "cell_type": "code",
   "execution_count": null,
   "metadata": {},
   "outputs": [],
   "source": [
    "# we can use dictionaryname.keys() to obtain the keys attribute\n",
    "people.keys()"
   ]
  },
  {
   "cell_type": "code",
   "execution_count": null,
   "metadata": {},
   "outputs": [],
   "source": [
    "# similarly, we can use dictionaryname.values() to obtain the values attribute\n",
    "people.values()"
   ]
  },
  {
   "cell_type": "markdown",
   "metadata": {},
   "source": [
    "<font size =3>  Each of these attributes can be converted to list if necessary as illustrated below: </font>"
   ]
  },
  {
   "cell_type": "code",
   "execution_count": null,
   "metadata": {},
   "outputs": [],
   "source": [
    "keys = list(people.keys())\n",
    "keys"
   ]
  },
  {
   "cell_type": "code",
   "execution_count": null,
   "metadata": {},
   "outputs": [],
   "source": [
    "values = list(people.values())\n",
    "values"
   ]
  },
  {
   "cell_type": "code",
   "execution_count": null,
   "metadata": {},
   "outputs": [],
   "source": [
    "# let's obtain the value of a specific key - dictionary_name['key']\n",
    "people['John']"
   ]
  },
  {
   "cell_type": "code",
   "execution_count": null,
   "metadata": {},
   "outputs": [],
   "source": [
    "# We can change the value attribute for a particular key as follows - dictionary_name['key'] = new_value\n",
    "people['Abigail'] = 29\n",
    "people"
   ]
  },
  {
   "cell_type": "code",
   "execution_count": null,
   "metadata": {},
   "outputs": [],
   "source": [
    "# we can add a new entry to an existing dictionary in the same way - dictionary_name['new_key'] = new_value\n",
    "people['Jude'] = 45"
   ]
  },
  {
   "cell_type": "code",
   "execution_count": null,
   "metadata": {},
   "outputs": [],
   "source": [
    "people"
   ]
  },
  {
   "cell_type": "markdown",
   "metadata": {},
   "source": [
    "## More with data containers - methods\n",
    "<p></p>\n",
    "<font size =3> Each data container has a number of useful methods that facilitate its use in programming. The help() function can be used to obtain the list of methods available for a given data container </font>"
   ]
  },
  {
   "cell_type": "code",
   "execution_count": null,
   "metadata": {},
   "outputs": [],
   "source": [
    "help(list)"
   ]
  },
  {
   "cell_type": "code",
   "execution_count": null,
   "metadata": {},
   "outputs": [],
   "source": [
    "# first, let's define a list myList = [-3, -7, 2, 4, 6, 9, 8]\n"
   ]
  },
  {
   "cell_type": "code",
   "execution_count": null,
   "metadata": {},
   "outputs": [],
   "source": [
    "# let's use the insert method as an example  - myList.insert(position, object_to_insert)\n"
   ]
  },
  {
   "cell_type": "code",
   "execution_count": null,
   "metadata": {},
   "outputs": [],
   "source": [
    "# let's use the sort method as an example  - myList.sort()\n"
   ]
  },
  {
   "cell_type": "code",
   "execution_count": null,
   "metadata": {},
   "outputs": [],
   "source": [
    "# let's use the sort method with the reverse keyword to reverse myList  - myList.sort(reverse = True)\n"
   ]
  },
  {
   "cell_type": "code",
   "execution_count": null,
   "metadata": {},
   "outputs": [],
   "source": [
    "# we could use the reverse method directly instead\n"
   ]
  },
  {
   "cell_type": "code",
   "execution_count": null,
   "metadata": {},
   "outputs": [],
   "source": [
    "# count method returns the number of occurences of an element in a data container\n",
    "# for examaple, remember we had myTuple = (1.0, 2, 2, 2.0, 7.0, 3.75, 'C', 'U', 'R', 'T', 'I', 'N', 4.5)\n",
    "# let's count how many 2's we have in myTuple\n",
    "myTuple = (1.0, 2, 2, 2.0, 7.0, 3.75, 'C', 'U', 'R', 'T', 'I', 'N', 4.5)\n",
    "myTuple.count(2)"
   ]
  },
  {
   "cell_type": "markdown",
   "metadata": {},
   "source": [
    "## Referencing a list vs copying a list"
   ]
  },
  {
   "cell_type": "code",
   "execution_count": null,
   "metadata": {},
   "outputs": [],
   "source": [
    "# Let's define another list named myList_copy equal to our previous list (myList)\n",
    "myList_copy = myList"
   ]
  },
  {
   "cell_type": "code",
   "execution_count": null,
   "metadata": {},
   "outputs": [],
   "source": [
    "# let's see what myList_copy looks like\n"
   ]
  },
  {
   "cell_type": "code",
   "execution_count": null,
   "metadata": {},
   "outputs": [],
   "source": [
    "# let's remove an item from myList_copy and see what happens\n"
   ]
  },
  {
   "cell_type": "code",
   "execution_count": null,
   "metadata": {},
   "outputs": [],
   "source": [
    "# Let's see what has happened to myList\n",
    "myList"
   ]
  },
  {
   "cell_type": "markdown",
   "metadata": {},
   "source": [
    "<p></p>\n",
    "<font size =3> You will observe that myList has also changed. This because setting myList_copy equal to myList did not create a new copy but rather referencing the original list. To make a distinct copy of a list, we need to use the copy method. </font>"
   ]
  },
  {
   "cell_type": "code",
   "execution_count": null,
   "metadata": {},
   "outputs": [],
   "source": [
    "# Let's redefine myList as follows\n",
    "myList.append(6)\n",
    "myList.sort()\n",
    "myList"
   ]
  },
  {
   "cell_type": "code",
   "execution_count": null,
   "metadata": {},
   "outputs": [],
   "source": [
    "# Now let's make a copy of myList\n",
    "myList_copy = myList.copy()"
   ]
  },
  {
   "cell_type": "code",
   "execution_count": null,
   "metadata": {},
   "outputs": [],
   "source": [
    "# let's remove an item from myList_copy and see what happens\n",
    "myList_copy.remove(6)"
   ]
  },
  {
   "cell_type": "code",
   "execution_count": null,
   "metadata": {},
   "outputs": [],
   "source": [
    "# Let's see what has happened\n"
   ]
  },
  {
   "cell_type": "markdown",
   "metadata": {},
   "source": [
    "## len() function\n",
    "<p></p>\n",
    "<font size =3> This is used to obtain the number of elements in a data container </font>"
   ]
  },
  {
   "cell_type": "code",
   "execution_count": null,
   "metadata": {},
   "outputs": [],
   "source": [
    "# let's check the number of items in myList\n",
    "len(myList)"
   ]
  },
  {
   "cell_type": "code",
   "execution_count": null,
   "metadata": {},
   "outputs": [],
   "source": [
    "# let's check the number of items in myTuple\n",
    "len(myTuple)"
   ]
  },
  {
   "cell_type": "markdown",
   "metadata": {},
   "source": [
    "## Range\n",
    "<p></p>\n",
    "<font size =3> Range is an immutable sequence of integers. It is defined using the function <b> range(start, stop, step) </b>.  </font>"
   ]
  },
  {
   "cell_type": "code",
   "execution_count": null,
   "metadata": {},
   "outputs": [],
   "source": [
    "# Let's define a range as follows\n",
    "myRange = range(0, 5, 1)\n",
    "myRange"
   ]
  },
  {
   "cell_type": "markdown",
   "metadata": {},
   "source": [
    "<font size =3> The output does not have much meaning. Let's use the list function to obtain a clearer output.</font>"
   ]
  },
  {
   "cell_type": "code",
   "execution_count": null,
   "metadata": {},
   "outputs": [],
   "source": [
    "# let's convert the previous output to a list\n",
    "myRange = list(range(0, 5, 1))"
   ]
  },
  {
   "cell_type": "code",
   "execution_count": null,
   "metadata": {},
   "outputs": [],
   "source": [
    "Range"
   ]
  },
  {
   "cell_type": "code",
   "execution_count": null,
   "metadata": {},
   "outputs": [],
   "source": [
    "# how about this\n",
    "list(range(1, len(myList)))"
   ]
  }
 ],
 "metadata": {
  "kernelspec": {
   "display_name": "Python 3",
   "language": "python",
   "name": "python3"
  },
  "language_info": {
   "codemirror_mode": {
    "name": "ipython",
    "version": 3
   },
   "file_extension": ".py",
   "mimetype": "text/x-python",
   "name": "python",
   "nbconvert_exporter": "python",
   "pygments_lexer": "ipython3",
   "version": "3.7.4"
  }
 },
 "nbformat": 4,
 "nbformat_minor": 4
}
