{
 "cells": [
  {
   "cell_type": "markdown",
   "metadata": {},
   "source": [
    "### Introduction to Pandas\n",
    "\n",
    "Pandas is one of the most popular libraries in Python. It makes working with structured data easy. It also provides numerous functionalities for data exploration, analysis and visualization. Before building a machine learning model for any data, an extensive **exploratory data analysis (EDA)** is usually performed to identify potential issues (such as missing data, collinearity, etc. with the data, select the best inputs (features), and possibly generate additional features (feature engineering). All these are often carried out with pandas in conjuction with other libraries like **NumPy, Matplotlib and Seaborn**. Pandas also allows us to interact with Excel, making it easier to perform excel-type operations within our IDE. \n",
    "\n",
    "To use, we first need to import pandas. A typical syntax for doing so is:\n",
    "\n",
    "<code>import pandas as pd</code>\n",
    "\n",
    "Pandas has a **DataFrame** function that allows us to generate and work with tabular data. The commonly used syntax for working with the DataFrame function in pandas is:\n",
    "\n",
    "<code>df = pd.DataFrame(dictionary_input)</code>\n",
    "\n",
    "As our first example, let's define some parameters to use in generating a dataframe:\n",
    "<code>\n",
    "names = [\"Adekunle\", \"Saheed\", \"Fahad\", \"Fatimah\", \"Sheriff\", \"Abdul\", \"Darlington\", \"Simon\", \"Abiodun\", \"Ammar\"]\n",
    "ages = np.random.choice(np.arange(20, 51, 1), size = len(names))\n",
    "job_title = [\"teacher\",\"engineer\", \"doctor\", \"student\", \"researcher\", \"lawyer\", \"CEO\", \"data scientist\", \"professor\", \"reservor engineer\"]\n",
    "</code>"
   ]
  },
  {
   "cell_type": "code",
   "execution_count": null,
   "metadata": {},
   "outputs": [],
   "source": [
    "# import libraries here\n",
    "import pandas as pd\n",
    "import numpy as np\n",
    "\n",
    "np.random.seed(1)"
   ]
  },
  {
   "cell_type": "code",
   "execution_count": null,
   "metadata": {},
   "outputs": [],
   "source": [
    "# define the variables here"
   ]
  },
  {
   "cell_type": "code",
   "execution_count": null,
   "metadata": {},
   "outputs": [],
   "source": [
    "# define the dataframe here"
   ]
  },
  {
   "cell_type": "code",
   "execution_count": null,
   "metadata": {},
   "outputs": [],
   "source": [
    "# take a look at df here"
   ]
  },
  {
   "cell_type": "markdown",
   "metadata": {},
   "source": [
    "**Note:**\n",
    "\n",
    "Assuming the dataframe contains a large number of rows, only some of the data would be displayed. Pandas provides the head(), tail() and sample() functions to help us view the first few rows, the last few rows, and randonly selected rows respectively as illustarted below."
   ]
  },
  {
   "cell_type": "code",
   "execution_count": null,
   "metadata": {},
   "outputs": [],
   "source": [
    "# let's try the head() function here"
   ]
  },
  {
   "cell_type": "code",
   "execution_count": null,
   "metadata": {},
   "outputs": [],
   "source": [
    "# let's try the tail() function here"
   ]
  },
  {
   "cell_type": "code",
   "execution_count": null,
   "metadata": {},
   "outputs": [],
   "source": [
    "# let's try the sample() function here"
   ]
  },
  {
   "cell_type": "markdown",
   "metadata": {},
   "source": [
    "**Note**\n",
    "\n",
    "Just like dictionaries, we can obtain the values for a given key (column name in this case!) as illustrated below"
   ]
  },
  {
   "cell_type": "code",
   "execution_count": null,
   "metadata": {},
   "outputs": [],
   "source": [
    "# use the df[] style here"
   ]
  },
  {
   "cell_type": "code",
   "execution_count": null,
   "metadata": {},
   "outputs": [],
   "source": [
    "# the the df. style here"
   ]
  },
  {
   "cell_type": "markdown",
   "metadata": {},
   "source": [
    "**Note**\n",
    "\n",
    "It is also possible to add a new column to the dataframe using the following syntax\n",
    "\n",
    "<code>dataframe_name[new_column_name] = new_values</code>"
   ]
  },
  {
   "cell_type": "code",
   "execution_count": null,
   "metadata": {},
   "outputs": [],
   "source": [
    "# let's include a new column named \"years in position\" and populate with \"nan\""
   ]
  },
  {
   "cell_type": "code",
   "execution_count": null,
   "metadata": {},
   "outputs": [],
   "source": [
    "# take a look at df again"
   ]
  },
  {
   "cell_type": "code",
   "execution_count": null,
   "metadata": {},
   "outputs": [],
   "source": [
    "# let's change the values of the \"years in position\" to some randomly generated integers"
   ]
  },
  {
   "cell_type": "code",
   "execution_count": null,
   "metadata": {},
   "outputs": [],
   "source": [
    "# take a look at df again"
   ]
  },
  {
   "cell_type": "code",
   "execution_count": null,
   "metadata": {},
   "outputs": [],
   "source": [
    "# let's have another column named annual_base_salary"
   ]
  },
  {
   "cell_type": "code",
   "execution_count": null,
   "metadata": {},
   "outputs": [],
   "source": [
    "# take a look at df again"
   ]
  },
  {
   "cell_type": "code",
   "execution_count": null,
   "metadata": {},
   "outputs": [],
   "source": [
    "# let's check what data types of our columns"
   ]
  },
  {
   "cell_type": "code",
   "execution_count": null,
   "metadata": {},
   "outputs": [],
   "source": [
    "# let's change annual_base_salary to integer\n",
    "\n",
    "# take a look at df again\n"
   ]
  },
  {
   "cell_type": "code",
   "execution_count": null,
   "metadata": {},
   "outputs": [],
   "source": [
    "# let's use apply to change each of annual_base_salary to the nearest 1000"
   ]
  },
  {
   "cell_type": "markdown",
   "metadata": {},
   "source": [
    "#### Applying functions to dataframe columns\n",
    "Assuming these individuals work for the same organization that chooses to give a bonus to each person equivalent to how (s)he has been in the current position multiplied by 10% of their current base salary. If we need to add these information to the dataframe, then we need to do some calculations first. Luckily, pandas provides some functionalities to manipulate our dataframes or specific columns therein. "
   ]
  },
  {
   "cell_type": "code",
   "execution_count": null,
   "metadata": {},
   "outputs": [],
   "source": [
    "# let's calculate bonus here\n",
    "\n",
    "# let's round bonus to the nearest 1000 also and then convert to integer type\n"
   ]
  },
  {
   "cell_type": "code",
   "execution_count": null,
   "metadata": {},
   "outputs": [],
   "source": [
    "# take a look at df again\n"
   ]
  },
  {
   "cell_type": "markdown",
   "metadata": {},
   "source": [
    "#### Slicing Dataframes\n",
    "\n",
    "It is also possible to obtain specific elements or subsets from a dataframe. Pandas provides us with the **loc, iloc, at, iat** methods to achieve this. We would discuss how each one works in the next few code lines"
   ]
  },
  {
   "cell_type": "markdown",
   "metadata": {},
   "source": [
    "**DataFrame.loc** vs **DataFrame.iloc**\n",
    "\n",
    "**DataFrame.loc** uses labels locating data while **DataFrame.iloc** strictly uses the position integers for both rows or row/column pair.\n",
    "\n",
    "To illustrate, let's make a copy of our dataframe and change the index of the copy to letters A-J"
   ]
  },
  {
   "cell_type": "code",
   "execution_count": null,
   "metadata": {},
   "outputs": [],
   "source": [
    "# first let's get the letters\n",
    "import string\n",
    "capital_letters = string.ascii_uppercase\n",
    "first_10 = [capital_letters[ind] for ind in range(10)]"
   ]
  },
  {
   "cell_type": "code",
   "execution_count": null,
   "metadata": {},
   "outputs": [],
   "source": [
    "# make a copy of df and change the index of the copy\n"
   ]
  },
  {
   "cell_type": "code",
   "execution_count": null,
   "metadata": {},
   "outputs": [],
   "source": [
    "# let's get the data for df at the row labelled 0 \n",
    "df.loc[0] # here 0 is interpretted as a label not an integer"
   ]
  },
  {
   "cell_type": "code",
   "execution_count": null,
   "metadata": {},
   "outputs": [],
   "source": [
    "# try df_copy.loc[0]"
   ]
  },
  {
   "cell_type": "code",
   "execution_count": null,
   "metadata": {},
   "outputs": [],
   "source": [
    "# what about df_copy.loc[\"A\"]"
   ]
  },
  {
   "cell_type": "code",
   "execution_count": null,
   "metadata": {},
   "outputs": [],
   "source": [
    "# let's get the name for this position"
   ]
  },
  {
   "cell_type": "code",
   "execution_count": null,
   "metadata": {},
   "outputs": [],
   "source": [
    "# let's try multiple rows with df"
   ]
  },
  {
   "cell_type": "code",
   "execution_count": null,
   "metadata": {},
   "outputs": [],
   "source": [
    "# repeat with df_copy"
   ]
  },
  {
   "cell_type": "code",
   "execution_count": null,
   "metadata": {},
   "outputs": [],
   "source": [
    "# if we want only the columns from name to position"
   ]
  },
  {
   "cell_type": "code",
   "execution_count": null,
   "metadata": {},
   "outputs": [],
   "source": [
    "# if we want only specific columns"
   ]
  },
  {
   "cell_type": "code",
   "execution_count": null,
   "metadata": {},
   "outputs": [],
   "source": [
    "# let's get the first row for df\n",
    "df.iloc[0]  # here 0 is interpreted as an integer"
   ]
  },
  {
   "cell_type": "code",
   "execution_count": null,
   "metadata": {},
   "outputs": [],
   "source": [
    "# try df_copy.iloc[\"A\"]"
   ]
  },
  {
   "cell_type": "markdown",
   "metadata": {},
   "source": [
    "This throws an error (as expected) because iloc expects integers and not strings"
   ]
  },
  {
   "cell_type": "code",
   "execution_count": null,
   "metadata": {},
   "outputs": [],
   "source": [
    "# try df_copy.iloc[0] instead"
   ]
  },
  {
   "cell_type": "code",
   "execution_count": null,
   "metadata": {},
   "outputs": [],
   "source": [
    "# let's get multiple data with iloc"
   ]
  },
  {
   "cell_type": "markdown",
   "metadata": {},
   "source": [
    "**DataFrame.at** vs **DataFrame.iat**\n",
    "\n",
    "DataFrame.at uses a row label or row/column pair labels to access a single element while DataFrame.iat uses position integers instead"
   ]
  },
  {
   "cell_type": "code",
   "execution_count": null,
   "metadata": {},
   "outputs": [],
   "source": [
    "# obtain the item at row label B and column label \"name\" for df_copy"
   ]
  },
  {
   "cell_type": "code",
   "execution_count": null,
   "metadata": {},
   "outputs": [],
   "source": [
    "# try df.iat here\n",
    "df.iat[2, 0]"
   ]
  },
  {
   "cell_type": "markdown",
   "metadata": {},
   "source": [
    "**Note**\n",
    "\n",
    "You can combine different slicers as illustrated below"
   ]
  },
  {
   "cell_type": "code",
   "execution_count": null,
   "metadata": {},
   "outputs": [],
   "source": [
    "# try .loc and .iat together here"
   ]
  }
 ],
 "metadata": {
  "kernelspec": {
   "display_name": "Python 3",
   "language": "python",
   "name": "python3"
  },
  "language_info": {
   "codemirror_mode": {
    "name": "ipython",
    "version": 3
   },
   "file_extension": ".py",
   "mimetype": "text/x-python",
   "name": "python",
   "nbconvert_exporter": "python",
   "pygments_lexer": "ipython3",
   "version": "3.7.4"
  }
 },
 "nbformat": 4,
 "nbformat_minor": 4
}
