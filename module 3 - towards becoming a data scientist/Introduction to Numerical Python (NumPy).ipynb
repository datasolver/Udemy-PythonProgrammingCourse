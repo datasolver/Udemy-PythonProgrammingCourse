{
 "cells": [
  {
   "cell_type": "markdown",
   "metadata": {},
   "source": [
    "## Working with Numbers"
   ]
  },
  {
   "cell_type": "markdown",
   "metadata": {},
   "source": [
    "### Introduction to Numerical Python (NumPy)"
   ]
  },
  {
   "cell_type": "markdown",
   "metadata": {},
   "source": [
    "NumPy is one of the most powerful python libraries for numerical modelling and simulation. Basically, NumPy provides n-dimensional arrays (of numbers) for numerical calculations. Thus, it is very useful for mathematical operations involving matrices, and it is very broad. However, due to the diverse backgrounds of the participants, our use of NumPy will be limited to simple arrays. Kindly visit the official page of NumPy https://numpy.org/devdocs/user/quickstart.html\n",
    "\n",
    "Like any other library, NumPy must be imported prior to first use. A simple syntax to import numpy is given below:\n",
    "\n",
    "<code>import numpy as np</code>"
   ]
  },
  {
   "cell_type": "code",
   "execution_count": null,
   "metadata": {},
   "outputs": [],
   "source": [
    "import numpy as np"
   ]
  },
  {
   "cell_type": "markdown",
   "metadata": {},
   "source": [
    "### Creating numpy arrays"
   ]
  },
  {
   "cell_type": "markdown",
   "metadata": {},
   "source": [
    "Next, we would define a list arr_elements given as: <code> arr_elements = [2, 0, 1, -1, 3, 5, 2, -3, 4] </code>.\n",
    "\n",
    "Now, we can define our first numpy array as <code> arr = np.array([arr_elements]) </code>"
   ]
  },
  {
   "cell_type": "code",
   "execution_count": null,
   "metadata": {},
   "outputs": [],
   "source": []
  },
  {
   "cell_type": "markdown",
   "metadata": {},
   "source": [
    "Remember we said numpy gives n-dimensional arrays of numbers. So, the question is how can we examine the dimensions **(nrows, ncols)** of a given array. That can be achieved using the **shape** method on a given array. The simple syntax to do that is given as \n",
    "<code>array_name.shape</code>."
   ]
  },
  {
   "cell_type": "code",
   "execution_count": null,
   "metadata": {},
   "outputs": [],
   "source": [
    "# the shape of our previous example array is given as "
   ]
  },
  {
   "cell_type": "markdown",
   "metadata": {},
   "source": [
    "This means **arr** contains *1 row and 9 columns* or simply put, it is *1 x 9 array*"
   ]
  },
  {
   "cell_type": "markdown",
   "metadata": {},
   "source": [
    "You may be wondering if it's possible to change the dimensions of an array; for example, changing the above array to a 3 x 3 array. The quick answer is yes. This can be done using any of the following two syntaxes:\n",
    "\n",
    "1. <code> np.reshape(array_name, new_shape, order) </code>\n",
    "2. <code> array_name.reshape(new_shape, order) </code>\n",
    "\n",
    "In both cases, new_shape is a tuple given by (nrows, ncols) and order is optional."
   ]
  },
  {
   "cell_type": "code",
   "execution_count": null,
   "metadata": {},
   "outputs": [],
   "source": [
    "# let's form a new  3 by 3 array A by reshaping our previous example"
   ]
  },
  {
   "cell_type": "code",
   "execution_count": null,
   "metadata": {},
   "outputs": [],
   "source": [
    "# let's examine the shape of A"
   ]
  },
  {
   "cell_type": "markdown",
   "metadata": {},
   "source": [
    "It is obvious from this result that multiplying nrows by ncols gives the number of elements in a given array. But, can we actually check the number of elements without necessarily obtaining the shape of the array. Again, the answer is yes. The **size** method does this for us. It can be called using the syntax <code>array_name.size</code>"
   ]
  },
  {
   "cell_type": "code",
   "execution_count": null,
   "metadata": {},
   "outputs": [],
   "source": [
    "# let's try this with our array A\n",
    "A.size"
   ]
  },
  {
   "cell_type": "markdown",
   "metadata": {},
   "source": [
    "In the first example, I created an array from a single list and as such, I ended up with a 1-dimensional array (or a row vector in mathematical terms). We then reshaped that array into a 3 by 3 array using the resphae function which simply partitions the original list into three sub-lists. That simply means that we could directly create arrays of any shape by specifying the individual sub-lists making up each row of the array. First the sub-lists are collected in a parent list to achieve this. The general syntax can therefore be written as:\n",
    "\n",
    "<code>array = np.array([sublist1, sublist2, sublist3, ..., sublistn])</code> \n",
    "\n",
    "Note that tuples can be used instead of sublists but the tuples also have to collected in a parent list as follows:\n",
    "\n",
    "<code>array = np.array([tuple1, tuple2, tuple3, ...,tuplen])</code> "
   ]
  },
  {
   "cell_type": "code",
   "execution_count": null,
   "metadata": {},
   "outputs": [],
   "source": [
    "# let's implement each of these\n",
    "A = np.array([[2,  0,  1], [-1,  3,  5], [ 2, -3,  4]])\n",
    "B = np.array([(2,  0,  1), (-1,  3,  5), (2, -3,  4)])"
   ]
  },
  {
   "cell_type": "code",
   "execution_count": null,
   "metadata": {},
   "outputs": [],
   "source": [
    "# let's see what array A is\n",
    "A"
   ]
  },
  {
   "cell_type": "code",
   "execution_count": null,
   "metadata": {},
   "outputs": [],
   "source": [
    "# what about array B?\n",
    "B"
   ]
  },
  {
   "cell_type": "code",
   "execution_count": null,
   "metadata": {},
   "outputs": [],
   "source": [
    "# are they the same?\n",
    "A == B"
   ]
  },
  {
   "cell_type": "markdown",
   "metadata": {},
   "source": [
    "Element-wise, A & B are equal but both are stored in different locations on our computer and as such, are not recognised as exactly the same by python."
   ]
  },
  {
   "cell_type": "code",
   "execution_count": null,
   "metadata": {},
   "outputs": [],
   "source": [
    "# are they equal?\n",
    "A is B"
   ]
  },
  {
   "cell_type": "markdown",
   "metadata": {},
   "source": [
    "### Slicing numpy arrays\n",
    "\n",
    "Numpy arrays can be indexed and sliced with a simple syntax as follows:\n",
    "<code> array_name[start_row : stop_row , start_col : stop_col] </code>\n",
    "\n",
    "To illustrate, let's form a numpy array using the **range()** to generate the elements and then reshape the array as follows:\n",
    "<code> np.array(range(36)).reshape(4,9) </code>\n"
   ]
  },
  {
   "cell_type": "code",
   "execution_count": null,
   "metadata": {},
   "outputs": [],
   "source": [
    "# let's define our array here"
   ]
  },
  {
   "cell_type": "code",
   "execution_count": null,
   "metadata": {},
   "outputs": [],
   "source": [
    "arr"
   ]
  },
  {
   "cell_type": "markdown",
   "metadata": {},
   "source": [
    "Now, let's try out the following:\n",
    "<code>\n",
    "1. arr[:]\n",
    "2. arr[0:3]\n",
    "3. arr[0:3, 2:5]\n",
    "4. arr[:3, 2:5]\n",
    "5. arr[0:, 2:5]\n",
    "6. arr[, 2:5]\n",
    "7. arr[2, 2:5]\n",
    "</code>"
   ]
  },
  {
   "cell_type": "code",
   "execution_count": null,
   "metadata": {},
   "outputs": [],
   "source": [
    "# this returns all\n",
    "arr[:]"
   ]
  },
  {
   "cell_type": "code",
   "execution_count": null,
   "metadata": {},
   "outputs": [],
   "source": [
    "# this returns first 3 rows (row 0 to row 2)\n",
    "arr[0:3]"
   ]
  },
  {
   "cell_type": "code",
   "execution_count": null,
   "metadata": {},
   "outputs": [],
   "source": [
    "# this returns elements on the first 3 rows and columns #2 to #4\n",
    "arr[0:3, 2:5]"
   ]
  },
  {
   "cell_type": "markdown",
   "metadata": {},
   "source": [
    "<font size = 3, color = \"blue\"> Try the rest! </font>"
   ]
  },
  {
   "cell_type": "markdown",
   "metadata": {},
   "source": [
    "### Creating numpy matrices"
   ]
  },
  {
   "cell_type": "markdown",
   "metadata": {},
   "source": [
    "By default, numpy operates with arrays because they are faster however, most numerical operations involve matrices. Thus, it is important to understand how numpy handles matrices. \n",
    "\n",
    "The following syntax can be used to define a matrix or convert a numpy array to a matrix:\n",
    "\n",
    "<code>np.matrix(array)</code>"
   ]
  },
  {
   "cell_type": "code",
   "execution_count": null,
   "metadata": {},
   "outputs": [],
   "source": [
    "# for example, let's convert the previous array to a matrix"
   ]
  },
  {
   "cell_type": "markdown",
   "metadata": {},
   "source": [
    "Let's obtain a slice of **my_matrix** as we did for **arr**. "
   ]
  },
  {
   "cell_type": "code",
   "execution_count": null,
   "metadata": {},
   "outputs": [],
   "source": [
    "mat_A = my_matrix[0:3, 2:5]\n",
    "mat_B = my_matrix[1:4, 0:3]"
   ]
  },
  {
   "cell_type": "code",
   "execution_count": null,
   "metadata": {},
   "outputs": [],
   "source": [
    "mat_A"
   ]
  },
  {
   "cell_type": "code",
   "execution_count": null,
   "metadata": {},
   "outputs": [],
   "source": [
    "mat_B"
   ]
  },
  {
   "cell_type": "markdown",
   "metadata": {},
   "source": [
    "These can now be used for operations that require matrices specifically. For example, finding the **determinant of mat_A**"
   ]
  },
  {
   "cell_type": "code",
   "execution_count": null,
   "metadata": {},
   "outputs": [],
   "source": []
  },
  {
   "cell_type": "markdown",
   "metadata": {},
   "source": [
    "### Basic operations with numpy arrays and matrices\n",
    "\n",
    "Numpy operates element-by-element on arrays. Hence, most arithmetic operations involving two or more numpy arrays would require that those arrays have the same shape. All the rules of operating with matrices must be obeyed when dealing with numpy matrix operations. \n",
    "\n",
    "Let's define two arrays A & B as follows:\n",
    "<code>\n",
    "A = arr[0:3, 2:5]\n",
    "B = arr[1:4, 0:3]\n",
    "</code>\n",
    "\n",
    "We would use these to illustrate some mathematical operations"
   ]
  },
  {
   "cell_type": "code",
   "execution_count": null,
   "metadata": {},
   "outputs": [],
   "source": [
    "# let's define the arrays here\n",
    "A = arr[0:3, 2:5]\n",
    "B = arr[1:4, 0:3]"
   ]
  },
  {
   "cell_type": "code",
   "execution_count": null,
   "metadata": {},
   "outputs": [],
   "source": [
    "# let's see each one separately\n",
    "A"
   ]
  },
  {
   "cell_type": "code",
   "execution_count": null,
   "metadata": {},
   "outputs": [],
   "source": [
    "B"
   ]
  },
  {
   "cell_type": "code",
   "execution_count": null,
   "metadata": {},
   "outputs": [],
   "source": [
    "# Now, let's add A & B"
   ]
  },
  {
   "cell_type": "markdown",
   "metadata": {},
   "source": [
    "Did you notice that each element in A is added to the corresponding element in B? That's why A & B must have the same shape otherwise, python will throw an error. \n",
    "\n",
    "Can you try **A - B**?"
   ]
  },
  {
   "cell_type": "code",
   "execution_count": null,
   "metadata": {},
   "outputs": [],
   "source": [
    "# let's do A multiplied by B"
   ]
  },
  {
   "cell_type": "code",
   "execution_count": null,
   "metadata": {},
   "outputs": [],
   "source": [
    "# how about B multiplied by A?"
   ]
  },
  {
   "cell_type": "markdown",
   "metadata": {},
   "source": [
    "Both are the same because array multiplications are also done element-by-element. Such a multiplication is known as array broadcasting."
   ]
  },
  {
   "cell_type": "code",
   "execution_count": null,
   "metadata": {},
   "outputs": [],
   "source": [
    "A/B"
   ]
  },
  {
   "cell_type": "markdown",
   "metadata": {},
   "source": [
    "Direct division of one array by another is possible also because of the element-wise operations. "
   ]
  },
  {
   "cell_type": "code",
   "execution_count": null,
   "metadata": {},
   "outputs": [],
   "source": [
    "# Let's try similar operations with matrices instead\n",
    "mat_A + mat_B"
   ]
  },
  {
   "cell_type": "markdown",
   "metadata": {},
   "source": [
    "This is obviously an element-by-element operation; similar to arrays"
   ]
  },
  {
   "cell_type": "code",
   "execution_count": null,
   "metadata": {},
   "outputs": [],
   "source": [
    "mat_A*mat_B"
   ]
  },
  {
   "cell_type": "markdown",
   "metadata": {},
   "source": [
    "This is **NOT** an element-by-element operation; similar to arrays but a matrix multiplication."
   ]
  },
  {
   "cell_type": "code",
   "execution_count": null,
   "metadata": {},
   "outputs": [],
   "source": [
    "mat_B*mat_A"
   ]
  },
  {
   "cell_type": "markdown",
   "metadata": {},
   "source": [
    "Unlike arrays, mat_A multiplied by mat_B is **NOT** the same as mat_B multiplied by mat_A "
   ]
  },
  {
   "cell_type": "markdown",
   "metadata": {},
   "source": [
    "### Common used numpy functions\n",
    "\n",
    "Among others, the following is a list of some of the commonly used numpy functions:\n",
    "\n",
    "<code>\n",
    "1. linspace(start, stop, n) - to generate an evenly array of \"n\" elements from a \"start\" to \"stop\" on a linear scale\n",
    "    \n",
    "2. arange(start, stop, step_size) - to generate a uniformly spaced array of numbers from start to stop at a given interval (step_size)\n",
    "\n",
    "3. logspace(start, stop, n) - same as linspace() but using a log scale\n",
    "\n",
    "4. sum()\n",
    "\n",
    "5. max()\n",
    "\n",
    "6. min()\n",
    "\n",
    "7. mean()\n",
    "\n",
    "8. median()\n",
    "</code>\n",
    "\n",
    "Let's try some of them out"
   ]
  },
  {
   "cell_type": "code",
   "execution_count": null,
   "metadata": {},
   "outputs": [],
   "source": [
    "# let's apply linspace"
   ]
  },
  {
   "cell_type": "code",
   "execution_count": null,
   "metadata": {},
   "outputs": [],
   "source": [
    "# another example with linspace"
   ]
  },
  {
   "cell_type": "code",
   "execution_count": null,
   "metadata": {},
   "outputs": [],
   "source": [
    "# let's try arange"
   ]
  },
  {
   "cell_type": "markdown",
   "metadata": {},
   "source": [
    "Just like range, the array stops one step before the endpoint specified."
   ]
  },
  {
   "cell_type": "code",
   "execution_count": null,
   "metadata": {},
   "outputs": [],
   "source": [
    "# another example with arange"
   ]
  },
  {
   "cell_type": "code",
   "execution_count": null,
   "metadata": {},
   "outputs": [],
   "source": [
    "# let's generate some random numbers with numpy\n",
    "x = np.random.random_sample(50)"
   ]
  },
  {
   "cell_type": "code",
   "execution_count": null,
   "metadata": {},
   "outputs": [],
   "source": [
    "# random numbers with normal distribution\n",
    "np.random.seed(1)   # to ensure reproducibility of results"
   ]
  },
  {
   "cell_type": "code",
   "execution_count": null,
   "metadata": {},
   "outputs": [],
   "source": [
    "# let's use this to generate a plot"
   ]
  },
  {
   "cell_type": "markdown",
   "metadata": {},
   "source": [
    "###  working with data in a text file\n",
    "\n",
    "Numpy provides a **loadtxt** functionality for loading datasets in text files. This function has several input arguments to help us control the file loading as much as possible. A simplied syntax for this function is provided below:\n",
    "\n",
    "<code>np.loadtxt(filename, delimiter = None, skiprows = 0, usecols = None)</code> \n",
    "\n",
    "Kindly click on this link for a complete list of these arguments and their meanings:\n",
    "\n",
    "https://numpy.org/doc/stable/reference/generated/numpy.loadtxt.html\n",
    "\n",
    "To illustrate, we would load the file named **boston_structured.txt** with numpy and extract some data from it. It is a good idea to manually open the file and examine the contents before loading with python"
   ]
  },
  {
   "cell_type": "code",
   "execution_count": null,
   "metadata": {},
   "outputs": [],
   "source": [
    "# let's load the data here and name it boston_data"
   ]
  },
  {
   "cell_type": "markdown",
   "metadata": {},
   "source": [
    "You can see the data is loaded as an array by default. One more thing to note is that each row is converted to a **sublist** while forming the array. If you examine the first element of the array for example, you will notice that it corresponds to the first row of the table"
   ]
  },
  {
   "cell_type": "code",
   "execution_count": null,
   "metadata": {},
   "outputs": [],
   "source": [
    "# extract the first element of the array"
   ]
  },
  {
   "cell_type": "markdown",
   "metadata": {},
   "source": [
    "Now, from the file, we know what each column represents. The first column is CRIM (per capital crime rate by town). How can we extract that information from the array. \n",
    "\n",
    "Well, we know from the array that the elements of the CRIM column form the first element of each sub-array (or sublist) in our data. So, if we iterate over the array (using **for loop**), we can extract this information."
   ]
  }
 ],
 "metadata": {
  "kernelspec": {
   "display_name": "Python 3",
   "language": "python",
   "name": "python3"
  },
  "language_info": {
   "codemirror_mode": {
    "name": "ipython",
    "version": 3
   },
   "file_extension": ".py",
   "mimetype": "text/x-python",
   "name": "python",
   "nbconvert_exporter": "python",
   "pygments_lexer": "ipython3",
   "version": "3.7.4"
  }
 },
 "nbformat": 4,
 "nbformat_minor": 4
}
