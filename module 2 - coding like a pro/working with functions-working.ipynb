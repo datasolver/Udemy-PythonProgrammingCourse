{
 "cells": [
  {
   "cell_type": "markdown",
   "metadata": {},
   "source": [
    "# Coding like a pro!"
   ]
  },
  {
   "cell_type": "markdown",
   "metadata": {},
   "source": [
    "### Working with Functions\n",
    "\n",
    "Functions are python objects that facilitates re-usability of a program/code. They allow you to write smarter, neater codes that will increase your code efficiency. \n",
    "\n",
    "In the last question of our module-1 assignment, we needed to replace mutiple punctuation marks (and new line character) from a text. We did that by repeat a code line many times until all the symbols in the text were replaced (with nothing). That was cool but grossly inefficient. A better solution would be to define a function to achieve this.\n",
    "\n",
    "The general format of a function is:\n",
    "\n",
    "<code>\n",
    "def function_name(inputs):\n",
    "    \"\"\"\n",
    "    docstrings\n",
    "    \"\"\"\n",
    "    instructions to execute\n",
    "    return output\n",
    "</code>\n",
    "\n",
    "The docstrings are help information on what the function does; basically, to help you or other users remember what the function does, the inputs it takes and the outputs it generates.\n",
    "\n",
    "Not all functions require inputs; some functions operate on some default values inbuilt into them by the programmer.\n",
    "\n",
    "Now, let's define a function to replace punctuations from the contents of any text file."
   ]
  },
  {
   "cell_type": "code",
   "execution_count": null,
   "metadata": {},
   "outputs": [],
   "source": [
    "# first, our previous solution\n",
    "\n",
    "# Step 1: open the file and read its entire contents\n",
    "file = open(r\"C:\\Users\\User\\Desktop\\intro_python\\module 1 - basics\\Mary_Lamb.txt\", mode = \"r\")\n",
    "contents = file.read()\n",
    "\n",
    "# Step 2: replace all punctuations and newline character\n",
    "contents = contents.replace(\",\", \"\")\n",
    "contents = contents.replace(\"'\", \"\")\n",
    "contents = contents.replace(\".\", \"\")\n",
    "contents = contents.replace(\";\", \"\")\n",
    "contents = contents.replace(\"?\", \"\")\n",
    "contents = contents.replace('\"', \"\")\n",
    "contents = contents.replace(\"\\n\", \" \")"
   ]
  },
  {
   "cell_type": "code",
   "execution_count": null,
   "metadata": {},
   "outputs": [],
   "source": [
    "# Now, let's define a function to this"
   ]
  },
  {
   "cell_type": "markdown",
   "metadata": {},
   "source": [
    "Now, we can use the above function as follows:"
   ]
  },
  {
   "cell_type": "code",
   "execution_count": null,
   "metadata": {},
   "outputs": [],
   "source": [
    "# specific the inputs"
   ]
  },
  {
   "cell_type": "code",
   "execution_count": null,
   "metadata": {},
   "outputs": [],
   "source": [
    "# now, call the function as follows"
   ]
  },
  {
   "cell_type": "markdown",
   "metadata": {},
   "source": [
    "**NOTE**: If you remember, that same question actually asked us for the count of unique four-lettered words in the file. Now, let's expand the above function to do that"
   ]
  },
  {
   "cell_type": "code",
   "execution_count": null,
   "metadata": {},
   "outputs": [],
   "source": [
    "# let's put the function here"
   ]
  },
  {
   "cell_type": "code",
   "execution_count": null,
   "metadata": {},
   "outputs": [],
   "source": [
    "# let's use the function\n",
    "# we have already some of the inputs before so there is no need to repeat them here\n",
    "# let's say we need the frequency of 4-lettered words,then"
   ]
  },
  {
   "cell_type": "code",
   "execution_count": null,
   "metadata": {},
   "outputs": [],
   "source": [
    "# let's print out the result as before\n",
    "print(f\"There are {frequency} four-letter words in the file Mary_Lamb.txt\")"
   ]
  },
  {
   "cell_type": "markdown",
   "metadata": {},
   "source": [
    "### Concluding remarks on functions\n",
    "You are probably wondering if this is worth the stress. The other approach seems less complicated; right! Well, that may be true but think about re-usability. If you desire to find the freqeuncy of all three-lettered words or you a given another file entirely, instead repeating the whole process again, you will simply re-defining your inputs and use the same function.\n",
    "\n",
    "<font size = 3, color = \"blue\">  Try it; find the frequency of **five-lettered words** in the file named **AbrahamLincoln.txt** </font>. There is no need to submit, but feel free to share your code in our slack group chat."
   ]
  },
  {
   "cell_type": "code",
   "execution_count": null,
   "metadata": {},
   "outputs": [],
   "source": [
    "# put your solution here "
   ]
  }
 ],
 "metadata": {
  "kernelspec": {
   "display_name": "exptenv",
   "language": "python",
   "name": "python3"
  },
  "language_info": {
   "codemirror_mode": {
    "name": "ipython",
    "version": 3
   },
   "file_extension": ".py",
   "mimetype": "text/x-python",
   "name": "python",
   "nbconvert_exporter": "python",
   "pygments_lexer": "ipython3",
   "version": "3.9.7 (default, Sep 16 2021, 16:59:28) [MSC v.1916 64 bit (AMD64)]"
  },
  "vscode": {
   "interpreter": {
    "hash": "09c0d9eccb3ce2eccda7f3323cfba4030d21ccaca51339795d25f25e5f34da0b"
   }
  }
 },
 "nbformat": 4,
 "nbformat_minor": 4
}
